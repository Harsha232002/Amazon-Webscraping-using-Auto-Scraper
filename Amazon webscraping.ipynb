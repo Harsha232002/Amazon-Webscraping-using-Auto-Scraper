{
 "cells": [
  {
   "cell_type": "code",
   "execution_count": 1,
   "id": "0f44c9cb",
   "metadata": {},
   "outputs": [
    {
     "name": "stdout",
     "output_type": "stream",
     "text": [
      "Requirement already satisfied: autoscraper in c:\\users\\asus\\appdata\\local\\programs\\python\\python310\\lib\\site-packages (1.1.14)\n",
      "Requirement already satisfied: lxml in c:\\users\\asus\\appdata\\local\\programs\\python\\python310\\lib\\site-packages (from autoscraper) (4.9.2)\n",
      "Requirement already satisfied: requests in c:\\users\\asus\\appdata\\local\\programs\\python\\python310\\lib\\site-packages (from autoscraper) (2.28.1)\n",
      "Requirement already satisfied: bs4 in c:\\users\\asus\\appdata\\local\\programs\\python\\python310\\lib\\site-packages (from autoscraper) (0.0.1)\n",
      "Requirement already satisfied: beautifulsoup4 in c:\\users\\asus\\appdata\\local\\programs\\python\\python310\\lib\\site-packages (from bs4->autoscraper) (4.11.1)\n",
      "Requirement already satisfied: idna<4,>=2.5 in c:\\users\\asus\\appdata\\local\\programs\\python\\python310\\lib\\site-packages (from requests->autoscraper) (3.4)\n",
      "Requirement already satisfied: certifi>=2017.4.17 in c:\\users\\asus\\appdata\\local\\programs\\python\\python310\\lib\\site-packages (from requests->autoscraper) (2022.9.24)\n",
      "Requirement already satisfied: charset-normalizer<3,>=2 in c:\\users\\asus\\appdata\\local\\programs\\python\\python310\\lib\\site-packages (from requests->autoscraper) (2.1.1)\n",
      "Requirement already satisfied: urllib3<1.27,>=1.21.1 in c:\\users\\asus\\appdata\\local\\programs\\python\\python310\\lib\\site-packages (from requests->autoscraper) (1.26.12)\n",
      "Requirement already satisfied: soupsieve>1.2 in c:\\users\\asus\\appdata\\local\\programs\\python\\python310\\lib\\site-packages (from beautifulsoup4->bs4->autoscraper) (2.3.2.post1)\n",
      "Note: you may need to restart the kernel to use updated packages.\n"
     ]
    },
    {
     "name": "stderr",
     "output_type": "stream",
     "text": [
      "WARNING: Ignoring invalid distribution -ip (c:\\users\\asus\\appdata\\local\\programs\\python\\python310\\lib\\site-packages)\n",
      "WARNING: Ignoring invalid distribution -ip (c:\\users\\asus\\appdata\\local\\programs\\python\\python310\\lib\\site-packages)\n",
      "WARNING: Ignoring invalid distribution -ip (c:\\users\\asus\\appdata\\local\\programs\\python\\python310\\lib\\site-packages)\n",
      "WARNING: Ignoring invalid distribution -ip (c:\\users\\asus\\appdata\\local\\programs\\python\\python310\\lib\\site-packages)\n",
      "WARNING: Ignoring invalid distribution -ip (c:\\users\\asus\\appdata\\local\\programs\\python\\python310\\lib\\site-packages)\n",
      "WARNING: Ignoring invalid distribution -ip (c:\\users\\asus\\appdata\\local\\programs\\python\\python310\\lib\\site-packages)\n"
     ]
    }
   ],
   "source": [
    "pip install autoscraper"
   ]
  },
  {
   "cell_type": "code",
   "execution_count": 2,
   "id": "a91b4c07",
   "metadata": {},
   "outputs": [],
   "source": [
    "from autoscraper import AutoScraper"
   ]
  },
  {
   "cell_type": "code",
   "execution_count": 13,
   "id": "383bd9f2",
   "metadata": {},
   "outputs": [
    {
     "name": "stdout",
     "output_type": "stream",
     "text": [
      "['₹849', '₹19,990', '₹26,990', '₹149', '₹899', '₹1,999', '₹399', '₹745', '₹599', '₹471', '₹5,480', '₹2,202', '₹1,699', '₹379', 'boAt BassHeads 900 On-Ear Wired Headphones with Mic (White)', 'Sony WH-1000XM4 Industry Leading Wireless Noise Cancellation Bluetooth Over Ear Headphones with Mic for Phone Calls, 30 Hours Battery Life, Quick Charge, AUX, Touch Control and Voice Control - Black', 'Sony WH-1000XM5 Wireless Industry Leading Active Noise Cancelling Headphones, 8 Mics for Clear Calling, 30Hr Battery, 3 Min Quick Charge = 3 Hours Playback, Multi Point Connectivity, Alexa - Black', 'ZEBRONICS Zeb-Bro in Ear Wired Earphones with Mic, 3.5mm Audio Jack, 10mm Drivers, Phone/Tablet Compatible(Red)', 'boAt Rockerz 400 Bluetooth On Ear Headphones With Mic With Upto 8 Hours Playback & Soft Padded Ear Cushions(Grey/Green)', 'boAt Rockerz 450 Pro Bluetooth Wireless On Ear Headphones with Mic with 70 Hours Battery, 40Mm Drivers, Bluetooth V5.0 Padded Ear Cushions, Easy Access Controls and Voice Assistant(Aqua Blue)', 'boAt Bassheads 100 in Ear Wired Earphones with Mic(Furious Red)', 'Logitech H111 Wired On Ear Headphones With Mic Black', 'ZEBRONICS Zeb-Thunder Wireless Bluetooth Over The Ear Headphone, FM, mSD, 9 hrs Playback with Mic (Blue)', 'boAt Bassheads 220 Wired in Ear Earphones(Indi Lime)', 'JBL Tune 760NC, Wireless Over Ear Active Noise Cancellation Headphones with Mic, up to 50 Hours Playtime, Pure Bass, Dual Pairing, AUX & Voice Assistant Support for Mobile Phones (Black)', 'boAt Rockerz 558 Bluetooth Wireless Over Ear Headphones with Mic Upto 20 Hours Playback, 50MM Drivers, Soft Padded Ear Cushions and Physical Noise Isolation(Army Green)', 'JBL C100SI Wired In Ear Headphones with Mic, JBL Pure Bass Sound, One Button Multi-function Remote, Angled Buds for Comfort fit (Black)', 'Infinity (JBL Glide 510, 72 Hrs Playtime with Quick Charge, Wireless On Ear Headphone with Mic, Deep Bass, Dual Equalizer, Bluetooth 5.0 with Voice Assistant Support (Black)', 'boAt Rockerz 450 Pro Bluetooth On Ear Headphones with Mic with 70 Hours Battery, 40Mm Drivers, Bluetooth V5.0 Padded Ear Cushions, Easy Access Controls and Voice Assistant(Luscious Black)', 'boAt BassHeads 100 in-Ear Wired Headphones with Mic (Black)', 'Sony WH-1000XM4 Industry Leading Wireless Noise Cancellation Bluetooth Over Ear Headphones with Mic for Phone Calls, 30 Ho...', 'Sony WH-1000XM5 Wireless Industry Leading Active Noise Cancelling Headphones, 8 Mics for Clear Calling, 30Hr Battery, 3 Mi...', 'boAt Rockerz 450 Pro Bluetooth Wireless On Ear Headphones with Mic with 70 Hours Battery, 40Mm Drivers, Bluetooth V5.0 Pad...', 'JBL Tune 760NC, Wireless Over Ear Active Noise Cancellation Headphones with Mic, up to 50 Hours Playtime, Pure Bass, Dual ...', 'boAt Rockerz 558 Bluetooth Wireless Over Ear Headphones with Mic Upto 20 Hours Playback, 50MM Drivers, Soft Padded Ear Cus...', 'JBL C100SI Wired In Ear Headphones with Mic, JBL Pure Bass Sound, One Button Multi-function Remote, Angled Buds for Comfor...', 'Infinity (JBL Glide 510, 72 Hrs Playtime with Quick Charge, Wireless On Ear Headphone with Mic, Deep Bass, Dual Equalizer,...', 'boAt Rockerz 450 Pro Bluetooth On Ear Headphones with Mic with 70 Hours Battery, 40Mm Drivers, Bluetooth V5.0 Padded Ear C...', '92,490', '43,479', '5,796', '25,117', '16,753', '111,462', '375,695', '14,317', '62,745', '276,852', '29,375', '33,749', '194,943', '43,269']\n"
     ]
    }
   ],
   "source": [
    "amazon_url = \"https://www.amazon.in/s?k=headphones\"\n",
    "\n",
    "required_list = [\"₹849\",\"boAt BassHeads 900 On-Ear Wired Headphones with Mic (White)\",\"92,490\"]\n",
    "\n",
    "scraper = AutoScraper()\n",
    "result = scraper.build(flipkart_url,required_list)\n",
    "print(result)\n",
    "\n"
   ]
  },
  {
   "cell_type": "code",
   "execution_count": 14,
   "id": "815a5910",
   "metadata": {
    "scrolled": true
   },
   "outputs": [
    {
     "data": {
      "text/plain": [
       "{'rule_hhcg': ['₹849',\n",
       "  '₹19,990',\n",
       "  '₹26,990',\n",
       "  '₹149',\n",
       "  '₹899',\n",
       "  '₹1,999',\n",
       "  '₹399',\n",
       "  '₹745',\n",
       "  '₹599',\n",
       "  '₹471',\n",
       "  '₹5,480',\n",
       "  '₹2,202',\n",
       "  '₹599',\n",
       "  '₹1,699',\n",
       "  '₹1,999',\n",
       "  '₹379'],\n",
       " 'rule_5peh': ['₹849',\n",
       "  '₹19,990',\n",
       "  '₹26,990',\n",
       "  '₹149',\n",
       "  '₹899',\n",
       "  '₹1,999',\n",
       "  '₹399',\n",
       "  '₹745',\n",
       "  '₹599',\n",
       "  '₹471',\n",
       "  '₹5,480',\n",
       "  '₹2,202',\n",
       "  '₹599',\n",
       "  '₹1,699',\n",
       "  '₹1,999',\n",
       "  '₹379'],\n",
       " 'rule_ed7b': ['boAt BassHeads 900 On-Ear Wired Headphones with Mic (White)',\n",
       "  'Sony WH-1000XM4 Industry Leading Wireless Noise Cancellation Bluetooth Over Ear Headphones with Mic for Phone Calls, 30 Hours Battery Life, Quick Charge, AUX, Touch Control and Voice Control - Black',\n",
       "  'Sony WH-1000XM5 Wireless Industry Leading Active Noise Cancelling Headphones, 8 Mics for Clear Calling, 30Hr Battery, 3 Min Quick Charge = 3 Hours Playback, Multi Point Connectivity, Alexa - Black',\n",
       "  'ZEBRONICS Zeb-Bro in Ear Wired Earphones with Mic, 3.5mm Audio Jack, 10mm Drivers, Phone/Tablet Compatible(Red)',\n",
       "  'boAt Rockerz 400 Bluetooth On Ear Headphones With Mic With Upto 8 Hours Playback & Soft Padded Ear Cushions(Grey/Green)',\n",
       "  'boAt Rockerz 450 Pro Bluetooth Wireless On Ear Headphones with Mic with 70 Hours Battery, 40Mm Drivers, Bluetooth V5.0 Padded Ear Cushions, Easy Access Controls and Voice Assistant(Aqua Blue)',\n",
       "  'boAt Bassheads 100 in Ear Wired Earphones with Mic(Furious Red)',\n",
       "  'Logitech H111 Wired On Ear Headphones With Mic Black',\n",
       "  'ZEBRONICS Zeb-Thunder Wireless Bluetooth Over The Ear Headphone, FM, mSD, 9 hrs Playback with Mic (Blue)',\n",
       "  'boAt Bassheads 220 Wired in Ear Earphones(Indi Lime)',\n",
       "  'JBL Tune 760NC, Wireless Over Ear Active Noise Cancellation Headphones with Mic, up to 50 Hours Playtime, Pure Bass, Dual Pairing, AUX & Voice Assistant Support for Mobile Phones (Black)',\n",
       "  'boAt Rockerz 558 Bluetooth Wireless Over Ear Headphones with Mic Upto 20 Hours Playback, 50MM Drivers, Soft Padded Ear Cushions and Physical Noise Isolation(Army Green)',\n",
       "  'JBL C100SI Wired In Ear Headphones with Mic, JBL Pure Bass Sound, One Button Multi-function Remote, Angled Buds for Comfort fit (Black)',\n",
       "  'Infinity (JBL Glide 510, 72 Hrs Playtime with Quick Charge, Wireless On Ear Headphone with Mic, Deep Bass, Dual Equalizer, Bluetooth 5.0 with Voice Assistant Support (Black)',\n",
       "  'boAt Rockerz 450 Pro Bluetooth On Ear Headphones with Mic with 70 Hours Battery, 40Mm Drivers, Bluetooth V5.0 Padded Ear Cushions, Easy Access Controls and Voice Assistant(Luscious Black)',\n",
       "  'boAt BassHeads 100 in-Ear Wired Headphones with Mic (Black)'],\n",
       " 'rule_wbhn': ['boAt BassHeads 900 On-Ear Wired Headphones with Mic (White)',\n",
       "  'Sony WH-1000XM4 Industry Leading Wireless Noise Cancellation Bluetooth Over Ear Headphones with Mic for Phone Calls, 30 Ho...',\n",
       "  'Sony WH-1000XM5 Wireless Industry Leading Active Noise Cancelling Headphones, 8 Mics for Clear Calling, 30Hr Battery, 3 Mi...',\n",
       "  'ZEBRONICS Zeb-Bro in Ear Wired Earphones with Mic, 3.5mm Audio Jack, 10mm Drivers, Phone/Tablet Compatible(Red)',\n",
       "  'boAt Rockerz 400 Bluetooth On Ear Headphones With Mic With Upto 8 Hours Playback & Soft Padded Ear Cushions(Grey/Green)',\n",
       "  'boAt Rockerz 450 Pro Bluetooth Wireless On Ear Headphones with Mic with 70 Hours Battery, 40Mm Drivers, Bluetooth V5.0 Pad...',\n",
       "  'boAt Bassheads 100 in Ear Wired Earphones with Mic(Furious Red)',\n",
       "  'Logitech H111 Wired On Ear Headphones With Mic Black',\n",
       "  'ZEBRONICS Zeb-Thunder Wireless Bluetooth Over The Ear Headphone, FM, mSD, 9 hrs Playback with Mic (Blue)',\n",
       "  'boAt Bassheads 220 Wired in Ear Earphones(Indi Lime)',\n",
       "  'JBL Tune 760NC, Wireless Over Ear Active Noise Cancellation Headphones with Mic, up to 50 Hours Playtime, Pure Bass, Dual ...',\n",
       "  'boAt Rockerz 558 Bluetooth Wireless Over Ear Headphones with Mic Upto 20 Hours Playback, 50MM Drivers, Soft Padded Ear Cus...',\n",
       "  'JBL C100SI Wired In Ear Headphones with Mic, JBL Pure Bass Sound, One Button Multi-function Remote, Angled Buds for Comfor...',\n",
       "  'Infinity (JBL Glide 510, 72 Hrs Playtime with Quick Charge, Wireless On Ear Headphone with Mic, Deep Bass, Dual Equalizer,...',\n",
       "  'boAt Rockerz 450 Pro Bluetooth On Ear Headphones with Mic with 70 Hours Battery, 40Mm Drivers, Bluetooth V5.0 Padded Ear C...',\n",
       "  'boAt BassHeads 100 in-Ear Wired Headphones with Mic (Black)'],\n",
       " 'rule_5304': ['92,490',\n",
       "  '43,479',\n",
       "  '5,796',\n",
       "  '25,117',\n",
       "  '16,753',\n",
       "  '111,462',\n",
       "  '375,695',\n",
       "  '14,317',\n",
       "  '62,745',\n",
       "  '276,852',\n",
       "  '29,375',\n",
       "  '33,749',\n",
       "  '194,943',\n",
       "  '43,269',\n",
       "  '111,462',\n",
       "  '375,695']}"
      ]
     },
     "execution_count": 14,
     "metadata": {},
     "output_type": "execute_result"
    }
   ],
   "source": [
    "scraper.get_result_similar (amazon_url, grouped=True)"
   ]
  },
  {
   "cell_type": "code",
   "execution_count": 15,
   "id": "0ae60d0a",
   "metadata": {},
   "outputs": [],
   "source": [
    "scraper.set_rule_aliases({  'rule_ed7b': 'Title', 'rule_5304':'Price' })\n",
    "scraper.keep_rules([ 'rule_ed7b', 'rule_5304'])\n",
    "scraper.save('amazon-search')"
   ]
  },
  {
   "cell_type": "code",
   "execution_count": 18,
   "id": "883b67c1",
   "metadata": {},
   "outputs": [],
   "source": [
    "results = scraper.get_result_similar('https://www.amazon.in/s?k=iphones+under+60000',group_by_alias=True)"
   ]
  },
  {
   "cell_type": "code",
   "execution_count": 20,
   "id": "7f2ad96f",
   "metadata": {},
   "outputs": [
    {
     "data": {
      "text/plain": [
       "['Apple iPhone 13 (128GB) - Blue',\n",
       " 'Apple iPhone 12 (128GB) - (Product) RED',\n",
       " 'Apple iPhone 12 (64GB) - White',\n",
       " 'Apple iPhone 12 (128GB) - Blue',\n",
       " 'Apple iPhone 12 (64GB) - Green',\n",
       " 'Apple iPhone 12 (128GB) - Black',\n",
       " 'Apple iPhone 12 (64GB) - Blue',\n",
       " 'Apple iPhone 12 (64GB) - Black',\n",
       " 'Apple iPhone 12 (128GB) - White',\n",
       " 'Apple iPhone 12 (128GB) - Green',\n",
       " 'Apple iPhone 12 (128GB) - Purple',\n",
       " 'Apple iPhone SE (128 GB) - Midnight (3rd Generation)',\n",
       " 'Apple iPhone SE (128 GB) - Starlight (3rd Generation)',\n",
       " 'Apple iPhone 12 (64GB) - (Product) RED',\n",
       " 'Nillkin for iPhone 14 Pro Max Case with Sliding Camera Cover, [Full Around Protection], [Anti-Fingerprint], [Carbon Fiber Texture Anti-Scratch], Slim Shockproof Protective 6.7\", Deep Purple',\n",
       " 'Apple iPhone SE (64 GB) - Midnight (3rd Generation)']"
      ]
     },
     "execution_count": 20,
     "metadata": {},
     "output_type": "execute_result"
    }
   ],
   "source": [
    "results['Title']"
   ]
  },
  {
   "cell_type": "code",
   "execution_count": null,
   "id": "011799af",
   "metadata": {},
   "outputs": [],
   "source": []
  },
  {
   "cell_type": "code",
   "execution_count": null,
   "id": "eb5f65b0",
   "metadata": {},
   "outputs": [],
   "source": []
  }
 ],
 "metadata": {
  "kernelspec": {
   "display_name": "Python 3 (ipykernel)",
   "language": "python",
   "name": "python3"
  },
  "language_info": {
   "codemirror_mode": {
    "name": "ipython",
    "version": 3
   },
   "file_extension": ".py",
   "mimetype": "text/x-python",
   "name": "python",
   "nbconvert_exporter": "python",
   "pygments_lexer": "ipython3",
   "version": "3.10.7"
  }
 },
 "nbformat": 4,
 "nbformat_minor": 5
}
